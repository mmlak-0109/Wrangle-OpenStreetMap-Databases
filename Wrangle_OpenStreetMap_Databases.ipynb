{
 "cells": [
  {
   "cell_type": "markdown",
   "metadata": {},
   "source": [
    "# P3 Final Project: OpenStreetMap Los Angeles\n",
    "\n",
    "## Map Area\n",
    "\n",
    "Los Angeles, CA, United States\n",
    "\n",
    "- https://mapzen.com/data/metro-extracts/metro/los-angeles_california/\n",
    "\n",
    "I wanted to choose just my hometown, but the file size was too small for this project.  As a result, I decided to use the Los Angeles extract because it included my hometown and many of the other areas in Southern California that I visited most often growing up.\n",
    "\n",
    "## Problems Encountered in the Map\n",
    "\n",
    "While exploring the data I encountered many problems.  Below are the problems I decided to fix.\n",
    "\n",
    "- Second level \"k\" tags with unexpected \"problem\" characters in them.\n",
    "- Second level “k” tags pulled from GPS data (such as Tiger GPS) and data imported from databases (like the GNIS database). These have a format such as \"tiger:xxx\", \"tiger:xxx:xxx\", and \"gnis:xxx\".\n",
    "- Abbreviated street names (like \"Ave\", \"St\", and \"Ct\").\n",
    "- Postal codes with \"CA\" at the beginning (like \"CA 90274\"), a mixture of five and 9 digit postal codes (like \"91325\" and \"91325-3301\"), and information that are not postal codes listed as such (like full addresses, random numbers, or place names)."
   ]
  },
  {
   "cell_type": "markdown",
   "metadata": {},
   "source": [
    "## Data Wrangling Phase"
   ]
  },
  {
   "cell_type": "code",
   "execution_count": 1,
   "metadata": {
    "collapsed": true
   },
   "outputs": [],
   "source": [
    "import xml.etree.cElementTree as ET\n",
    "import re\n",
    "import pprint\n",
    "\n",
    "filename = 'los-angeles_california.osm'"
   ]
  },
  {
   "cell_type": "markdown",
   "metadata": {},
   "source": [
    "To begin I wanted to get a feel for the data by finding out what tags are present and how many of each tag there are."
   ]
  },
  {
   "cell_type": "code",
   "execution_count": 2,
   "metadata": {
    "collapsed": false
   },
   "outputs": [],
   "source": [
    "def get_element(f):\n",
    "    \"\"\"Yields element if it is the right type of tag\"\"\"\n",
    "    context = ET.iterparse(f, events=('start', 'end'))\n",
    "    _, root = next(context)\n",
    "    for event, elem in context:\n",
    "        if event == 'end':\n",
    "            yield elem\n",
    "            root.clear()\n",
    "            \n",
    "def count_tags(f):\n",
    "    \"\"\"Counts the number of top level tags\"\"\"\n",
    "    tags = {}\n",
    "    for elem in get_element(f):\n",
    "        if elem.tag not in tags.keys():\n",
    "            tags[elem.tag] = 1\n",
    "        else:\n",
    "            tags[elem.tag] += 1\n",
    "        elem.clear()\n",
    "    return tags\n",
    "\n",
    "#pprint.pprint(count_tags(filename))"
   ]
  },
  {
   "cell_type": "markdown",
   "metadata": {},
   "source": [
    "Next, I wanted to check the formating of the tags.\n",
    "\n",
    "Before I processed the data and added it into my database, I decided to check the \"k\" value for each \"tag\" and see if there were any potential problems.\n",
    "\n",
    "To do this, I used the function 'key_type' below to get a count of each of\n",
    "four tag categories in a dictionary:\n",
    " - \"lower\" for tags that contain only lowercase letters and are valid\n",
    " - \"lower_colon\" for otherwise valid tags with a colon in their names\n",
    " - \"problemchars\" for tags with problematic characters\n",
    " - \"other\" for other tags that do not fall into the other three categories.\n",
    " \n",
    "After that, I used the \"print_key_type\" function to print out the attributes for the tag categories \"problemchars\" and \"others\" to see what changes, if any, needed to be made to the tags in these categories."
   ]
  },
  {
   "cell_type": "code",
   "execution_count": 3,
   "metadata": {
    "collapsed": false
   },
   "outputs": [],
   "source": [
    "lower = re.compile(r'^([a-z]|_)*$')\n",
    "lower_colon = re.compile(r'^([a-z]|_)*:([a-z]|_)*$')\n",
    "problemchars = re.compile(r'[=\\+\\&<>;\\'\"\\?%#$@\\,\\. \\t\\r\\n]')\n",
    "\n",
    "\n",
    "def key_type(elem, keys):\n",
    "    \"\"\"Updates the 'key' dictionary with a count of each key type\"\"\"\n",
    "    if elem.tag == \"tag\":\n",
    "        k = elem.attrib['k']\n",
    "        if lower.search(k):\n",
    "            keys['lower'] += 1\n",
    "        elif lower_colon.search(k):\n",
    "            keys['lower_colon'] += 1\n",
    "        elif problemchars.search(k):\n",
    "            keys['problemchars'] += 1    \n",
    "        else:\n",
    "            keys['other'] += 1\n",
    "    return keys\n",
    "\n",
    "def process_map(f):\n",
    "    \"\"\"Replaces the 'keys' dictionary with the updated 'keys' dictionary created by the 'key_type' function\"\"\"\n",
    "    keys = {\"lower\": 0, \"lower_colon\": 0, \"problemchars\": 0, \"other\": 0}\n",
    "    for elem in get_element(f):\n",
    "        keys = key_type(elem, keys)\n",
    "    return keys\n",
    "\n",
    "#pprint.pprint(process_map(filename))"
   ]
  },
  {
   "cell_type": "code",
   "execution_count": 4,
   "metadata": {
    "collapsed": false
   },
   "outputs": [],
   "source": [
    "def print_key_type(f):\n",
    "    \"\"\"Checks the element's key type, appends it to appropriate list, and returns the list\"\"\"\n",
    "    prob_char = []\n",
    "    other_prob = []\n",
    "    for elem in get_element(f):\n",
    "        if elem.tag == \"tag\":\n",
    "            k = elem.attrib['k']\n",
    "            if lower.search(k):\n",
    "                continue\n",
    "            elif lower_colon.search(k):\n",
    "                continue\n",
    "            elif problemchars.search(k):\n",
    "                prob_char.append(elem.attrib)\n",
    "            else:\n",
    "                other_prob.append(elem.attrib)\n",
    "    return prob_char, other_prob\n",
    "\n",
    "#pprint.pprint(print_key_type(filename))"
   ]
  },
  {
   "cell_type": "markdown",
   "metadata": {},
   "source": [
    "The tags in the \"problemchars\" category, were flagged due to periods in between two words (like \"step.height\"), and whitespace between multiples words (such as \"business type\").\n",
    "I decided to correct these problems by getting rid of the periods in between words and connecting all the 'k' attributes using underscores."
   ]
  },
  {
   "cell_type": "markdown",
   "metadata": {},
   "source": [
    "In addition, the \"others\" category was filled with many different kinds of attributes.  Many where just simply annotations such as \"FIXME\" and \"Description\", so I will leave those alone.  Many others are GPS data (such as Tiger GPS) and data imported from databases (like the GNIS database).  These have a format such as \"tiger:xxx\", \"tiger:xxx:xxx\", and \"gnis:xxx\".  I will fix \"k\" attributes with colons in them like this later in the \"shape_element\" function in the \"CSV File Creation\" section below."
   ]
  },
  {
   "cell_type": "markdown",
   "metadata": {},
   "source": [
    "Next, I checked for street names in the database and flagged any street names that weren't in the \"expected\" list shown in the code below.  I then printed out the flagged street names to decide which ones needed changed."
   ]
  },
  {
   "cell_type": "code",
   "execution_count": 5,
   "metadata": {
    "collapsed": false
   },
   "outputs": [],
   "source": [
    "from collections import defaultdict\n",
    "\n",
    "street_type_re = re.compile(r'\\b\\S+\\.?$', re.IGNORECASE)\n",
    "\n",
    "\n",
    "expected = [\"Street\", \"Avenue\", \"Boulevard\", \"Drive\", \"Court\", \"Place\", \"Square\", \"Lane\", \"Road\", \n",
    "            \"Trail\", \"Parkway\", \"Commons\"]\n",
    "\n",
    "def audit_street_type(street_types, street_name):\n",
    "    m = street_type_re.search(street_name)\n",
    "    if m:\n",
    "        street_type = m.group()\n",
    "        if street_type not in expected:\n",
    "            street_types[street_type].add(street_name)\n",
    "\n",
    "def is_street_name(elem):\n",
    "    return (elem.attrib['k'] == \"addr:street\")\n",
    "\n",
    "\n",
    "def audit(f):\n",
    "    \"\"\"Checks if each element is a street, checks each element for the words in the 'expected' list, \n",
    "    adds it to the 'street_types' ditionary, and returns the dictionary\"\"\"\n",
    "    street_types = defaultdict(set)\n",
    "    for elem in get_element(f):\n",
    "        if elem.tag == \"tag\":\n",
    "            if is_street_name(elem):\n",
    "                audit_street_type(street_types, elem.attrib['v'])\n",
    "    return street_types\n",
    "\n",
    "#pprint.pprint(dict(audit(filename)))"
   ]
  },
  {
   "cell_type": "markdown",
   "metadata": {},
   "source": [
    "Most of the problems I found with the street names involved the use of abbreviations.  These problems will be taken care of using the \"update_street_name\" function defined within the \"shape_element\" in the \"CSV File Creation\" section below.  Other problems, which I will not be cleaning pragmatically at this time, were street names that included the postal codes (such as '90815': set(['90815'])) and numbers that are likely the house numbers, suite numbers, apartment numbers, etc...(such as '100': set(['3347 Michelson Dr Suite 100'])).\n",
    "\n",
    "I could have just deleted postal codes that were mistakingly listed as street names or get rid of full addresses, but I didn't want to lose that information when it could still be transfered to a different \"k\" attribute other than \"addr:street\".  So, in the end, I chose to simply leave them as is for the sake of time and effort required for so few entries."
   ]
  },
  {
   "cell_type": "code",
   "execution_count": 6,
   "metadata": {
    "collapsed": false
   },
   "outputs": [],
   "source": [
    "from collections import defaultdict\n",
    "\n",
    "def is_postal_code(elem):\n",
    "    return (elem.attrib['k'] == \"addr:postcode\")\n",
    "\n",
    "def audit(f):\n",
    "    \"\"\"Checks if the element's tag-attribute is a postal code, adds it to the 'postal_code' dictionary if it is,\n",
    "       and returns the dictionary\"\"\"\n",
    "    postal_codes = defaultdict(set)\n",
    "    for elem in get_element(f):\n",
    "        if elem.tag == \"tag\":\n",
    "            if is_postal_code(elem):\n",
    "                postal_codes[elem.attrib['v']].add(elem.attrib['v'])\n",
    "    return postal_codes\n",
    "\n",
    "#pprint.pprint(dict(audit(filename)))"
   ]
  },
  {
   "cell_type": "markdown",
   "metadata": {},
   "source": [
    "Next I turned to looking at postal codes.  After using the \"audit\" function above to print out the postal codes, I was able to see the variety of format's people used.  The main kinds of postal codes I found were regular five digit codes (like \"91325\"), nine digit codes (like \"91325-3301\"), five and nine digit postal codes with \"CA\" at the beginning with a space or dash (like \"CA 90274\"), and information that is not postal codes (like full addresses, random numbers, or place names)."
   ]
  },
  {
   "cell_type": "code",
   "execution_count": 7,
   "metadata": {
    "collapsed": false
   },
   "outputs": [],
   "source": [
    "five_digit = re.compile(r'^(\\d{5})$')\n",
    "nine_digit = re.compile(r'^(\\d{5}-\\d{4})$')\n",
    "letter_nine_digit_dash = re.compile(r'^([A-Z])+-(\\d{5}-\\d{4})$')\n",
    "letter_nine_digit_space = re.compile(r'^([A-Z])+\\s(\\d{5}-\\d{4})$')\n",
    "letter_five_digit = re.compile(r'^([a-zA-Z])+\\s(\\d{5})$')\n",
    "phone_number = re.compile(r'^(\\d{5}-\\d{4})\\s(\\d+-\\d+-\\d+)$')\n",
    "\n",
    "def postal_code_key_type(elem, keys):\n",
    "    if elem.tag == \"tag\":\n",
    "        code = elem.attrib['v']\n",
    "        if nine_digit.search(code):\n",
    "            keys['nine_digit'] += 1\n",
    "        elif five_digit.search(code):\n",
    "            keys['five_digit'] += 1\n",
    "        elif letter_five_digit.search(code):\n",
    "            keys['letter_five_digit'] += 1\n",
    "        elif letter_nine_digit_dash.search(code):\n",
    "            keys['letter_nine_digit_dash'] += 1\n",
    "        elif letter_nine_digit_space.search(code):\n",
    "            keys['letter_nine_digit_space'] += 1\n",
    "        elif phone_number.search(code):\n",
    "            keys['phone_number'] += 1\n",
    "        else:\n",
    "            keys['other'] += 1\n",
    "    return keys\n",
    "\n",
    "def process_map(f):\n",
    "    \"\"\"Checks if each element is a postal code, checks each element's key type with a regular expression, \n",
    "       updates dictionary key type count, and returns dictionary\"\"\"\n",
    "    keys = {\"five_digit\": 0,\n",
    "            \"nine_digit\": 0,\n",
    "            \"letter_nine_digit_space\": 0,\n",
    "            \"letter_nine_digit_dash\": 0,\n",
    "            \"letter_five_digit\": 0,\n",
    "            \"phone_number\": 0,\n",
    "            \"other\": 0}\n",
    "    for elem in get_element(f):\n",
    "        if elem.tag == \"tag\":\n",
    "            if is_postal_code(elem):\n",
    "                keys = postal_code_key_type(elem, keys)\n",
    "    return keys\n",
    "\n",
    "#pprint.pprint(process_map(filename))"
   ]
  },
  {
   "cell_type": "markdown",
   "metadata": {},
   "source": [
    "As can be seen in the output above, the vast majority of the postal codes were regular five digit codes, but there were postal codes in other formats and some non-postal codes.  While the postal codes in other formats are not necessarily a problem, I want as much uniformity as possible.  As a result, I will process those otherwise correct postal codes into five digit codes (this will be taken care of using the \"clean_postal_code\" function defined within the \"shape_element\" function in the \"CSV File Creation\" section below).\n",
    "\n",
    "The \"print_postal_key_types\"function below was simply used by me to make sure I was capturing all of the postal codes correctly."
   ]
  },
  {
   "cell_type": "code",
   "execution_count": 8,
   "metadata": {
    "collapsed": false
   },
   "outputs": [],
   "source": [
    "def postal_code_key_type(elem, postal_codes):\n",
    "    code = elem.attrib['v']\n",
    "    if nine_digit.search(code):\n",
    "        postal_codes['nine_digit'].add(code)\n",
    "    elif five_digit.search(code):\n",
    "        postal_codes['five_digit'].add(code)\n",
    "    elif letter_five_digit.search(code):\n",
    "        postal_codes['letter_five_digit'].add(code)\n",
    "    elif letter_nine_digit_dash.search(code):\n",
    "        postal_codes['letter_nine_digit_dash'].add(code)\n",
    "    elif letter_nine_digit_space.search(code):\n",
    "        postal_codes['letter_nine_digit_space'].add(code)\n",
    "    elif phone_number.search(code):\n",
    "        postal_codes['phone_number'].add(code)\n",
    "    else:\n",
    "        postal_codes['other'].add(code)\n",
    "    return postal_codes\n",
    "\n",
    "def print_postal_key_types(f):\n",
    "    \"\"\"Checks if each element is a postal code, checks each element's key type with a regular expression, \n",
    "    adds element to dictionary, and returns dictionary\"\"\"\n",
    "    postal_codes = defaultdict(set)\n",
    "    for elem in get_element(f):\n",
    "        if elem.tag == \"tag\":\n",
    "            if is_postal_code(elem):\n",
    "                postal_code_key_type(elem, postal_codes)\n",
    "    return postal_codes\n",
    "\n",
    "#pprint.pprint(dict(print_postal_key_types(filename)))"
   ]
  },
  {
   "cell_type": "markdown",
   "metadata": {},
   "source": [
    "## CSV File Creation"
   ]
  },
  {
   "cell_type": "code",
   "execution_count": 10,
   "metadata": {
    "collapsed": false
   },
   "outputs": [
    {
     "name": "stdout",
     "output_type": "stream",
     "text": [
      "Time To Process: 1383.583565 Seconds\n"
     ]
    }
   ],
   "source": [
    "import csv\n",
    "import codecs\n",
    "import cerberus\n",
    "import schema\n",
    "\n",
    "OSM_PATH = filename\n",
    "\n",
    "NODES_PATH = \"nodes.csv\"\n",
    "NODE_TAGS_PATH = \"nodes_tags.csv\"\n",
    "WAYS_PATH = \"ways.csv\"\n",
    "WAY_NODES_PATH = \"ways_nodes.csv\"\n",
    "WAY_TAGS_PATH = \"ways_tags.csv\"\n",
    "\n",
    "# The dictionary of street names to be updated using the \"update_street_name\" function defined below.\n",
    "mapping = { \"Av\": \"Avenue\",\n",
    "            \"Ave,\": \"Avenue\",\n",
    "            \"Ave.\": \"Avenue\",\n",
    "            \"Ave\": \"Avenue\",\n",
    "            \"avenue\": \"Avenue\",\n",
    "            \"ave\": \"Avenue\",\n",
    "            \"BLVD\": \"Boulevard\",\n",
    "            \"Blv\": \"Boulevard\",\n",
    "            \"Blvd\": \"Boulevard\",\n",
    "            \"Blvd.\": \"Boulevard\",\n",
    "            \"blvd\": \"Boulevard\",\n",
    "            \"Bvd\": \"Boulevard\",\n",
    "            \"broadway\": \"Broadway\",\n",
    "            \"Cir\": \"Circle\",\n",
    "            \"Ct\": \"Court\",\n",
    "            \"court\": \"Court\",\n",
    "            \"ct.\": \"Court\",\n",
    "            \"Dr\": \"Drive\",\n",
    "            \"Dr.\": \"Drive\",\n",
    "            \"Hwy\": \"Highway\",\n",
    "            \"Ln\": \"Lane\",\n",
    "            \"Ln.\": \"Lane\",\n",
    "            \"Pkwy\": \"Parkway\",\n",
    "            \"Pkwy.\": \"Parkway\",\n",
    "            \"Pky\": \"Parkway\",\n",
    "            \"PL\": \"Place\",\n",
    "            \"Pl\": \"Place\",\n",
    "            \"RD\": \"Road\",\n",
    "            \"Rd\": \"Road\",\n",
    "            \"Rd.\": \"Road\",\n",
    "            \"road\": \"Road\",\n",
    "            \"Sq\": \"Square\",\n",
    "            'Sreet': \"Street\",\n",
    "            \"ST\": \"Street\",\n",
    "            \"St\": \"Street\",\n",
    "            \"St.\": \"Street\",\n",
    "            \"street\": \"Street\",\n",
    "            \"WAY\": \"Way\",\n",
    "            'Wy': \"Way\",\n",
    "            \"way\": \"Way\"\n",
    "            }\n",
    "\n",
    "SCHEMA = schema.schema\n",
    "\n",
    "# The field names that will be used in the header rows of the csv files defined above.\n",
    "node_fields = ['id', 'lat', 'lon', 'user', 'uid', 'version', 'changeset', 'timestamp']\n",
    "node_tags_fields = ['id', 'key', 'value', 'type']\n",
    "way_fields = ['id', 'user', 'uid', 'version', 'changeset', 'timestamp']\n",
    "way_tags_fields = ['id', 'key', 'value', 'type']\n",
    "way_nodes_fields = ['id', 'node_id', 'position']\n",
    "\n",
    "\n",
    "def shape_element(element):\n",
    "    \"\"\"Cleans and shapes node or way XML elements to Python dictionary\"\"\"\n",
    "    \n",
    "    node_attribs = {}\n",
    "    way_attribs = {}\n",
    "    way_nodes = []\n",
    "    tags = []\n",
    "\n",
    "    def update_street_name(child, mapping):\n",
    "        \"\"\"Checks if child element is a street, checks each child against the 'mapping' dictionary,\n",
    "           and updates each street name according the the 'mapping' dictionary\"\"\"\n",
    "        \n",
    "        name = child.attrib['v']\n",
    "        m = street_type_re.search(name)\n",
    "        if m:\n",
    "            street_type = m.group()\n",
    "            if street_type in mapping.keys():\n",
    "                name = re.sub(m.group(), mapping[m.group()], name)\n",
    "        return name\n",
    "    \n",
    "    def clean_postal_code(child):\n",
    "        \"\"\"Checks if child element is a postal code, checks postal codes format against regular expressions,\n",
    "           and cleans the postal code\"\"\"\n",
    "        \n",
    "        code = child.attrib['v']\n",
    "        if nine_digit.search(code):\n",
    "            code = code.split('-')[0]\n",
    "        elif letter_nine_digit_dash.search(code):\n",
    "            code = code.split('-')[1]\n",
    "        elif letter_nine_digit_space.search(code):\n",
    "            code = code.split(' ')[1]\n",
    "        elif letter_five_digit.search(code):\n",
    "            code = code.split(' ')[1]\n",
    "        elif phone_number.search(code):\n",
    "            code = code.split('-')[0]\n",
    "        return code\n",
    "    \n",
    "    def fix_key_type(element, child):\n",
    "        \n",
    "        tags_dict = {}\n",
    "        tags_dict['id'] = element.attrib['id']    \n",
    "                \n",
    "        k = child.attrib['k']\n",
    "        v = child.attrib['v']\n",
    "        if lower.search(k):\n",
    "            tags_dict['key'] = k\n",
    "            tags_dict['type'] = 'regular'\n",
    "            tags_dict['value'] = v\n",
    "        elif problemchars.search(k):\n",
    "            if k.find(\" \") != -1:\n",
    "                tags_dict['key'] = k.replace(\" \", \"_\")\n",
    "                tags_dict['type'] = 'regular'\n",
    "                tags_dict['value'] = v\n",
    "            elif k.find(\".\") != -1:\n",
    "                tags_dict['key'] = k.replace(\".\", \"_\")\n",
    "                tags_dict['type'] = 'regular'\n",
    "                tags_dict['value'] = v\n",
    "        elif lower_colon.search(k):\n",
    "            if is_postal_code(child):\n",
    "                tags_dict['value'] = clean_postal_code(child)\n",
    "            elif is_street_name(child):\n",
    "                tags_dict['value'] = update_street_name(child, mapping)\n",
    "            else:\n",
    "                tags_dict['value'] = v\n",
    "            tags_dict[\"type\"] = k.split(\":\", 1)[0]\n",
    "            tags_dict[\"key\"] = k.split(\":\", 1)[1]\n",
    "        else:\n",
    "            tags_dict[\"key\"] = k\n",
    "            tags_dict[\"type\"] = 'irregular'\n",
    "            tags_dict['value'] = v\n",
    "        tags.append(tags_dict)\n",
    "\n",
    "\n",
    "    if element.tag == 'node':\n",
    "        for field in node_fields:\n",
    "            try:\n",
    "                node_attribs[field] = element.attrib[field]\n",
    "            except:\n",
    "                # print out problem \"field\" to see what the issue is\n",
    "                #print(field)\n",
    "                # if the attribute doesn't exist, fill it with something\n",
    "                node_attribs[field] = '000'\n",
    "        for child in element:\n",
    "            if child.tag == 'tag':\n",
    "                fix_key_type(element, child)\n",
    "        return {'node': node_attribs, 'node_tags': tags}\n",
    "    elif element.tag == 'way':\n",
    "        count = 0\n",
    "        for field in way_fields:\n",
    "            way_attribs[field] = element.attrib[field]\n",
    "        for child in element:\n",
    "            if child.tag == 'nd':\n",
    "                nd_dict = {}\n",
    "                nd_dict['id'] = element.attrib['id']\n",
    "                nd_dict['node_id'] = child.attrib['ref']\n",
    "                nd_dict['position'] = count\n",
    "                count += 1\n",
    "                way_nodes.append(nd_dict)\n",
    "            elif child.tag == 'tag':\n",
    "                fix_key_type(element, child)\n",
    "        return {'way': way_attribs, 'way_nodes': way_nodes, 'way_tags': tags}\n",
    "\n",
    "# ================================================== #\n",
    "#               Helper Functions                     #\n",
    "# ================================================== #\n",
    "def get_element(osm_file, tags=('node', 'way', 'relation')):\n",
    "    \"\"\"Yields element if it is the right type of tag\"\"\"\n",
    "    context = ET.iterparse(osm_file, events=('start', 'end'))\n",
    "    _, root = next(context)\n",
    "    for event, elem in context:\n",
    "        if event == 'end' and elem.tag in tags:\n",
    "            yield elem\n",
    "            root.clear()\n",
    "\n",
    "def validate_element(element, validator, schema=SCHEMA):\n",
    "    \"\"\"Raises ValidationError if element does not match schema\"\"\"\n",
    "    if validator.validate(element, schema) is not True:\n",
    "        field, errors = next(validator.errors.iteritems())\n",
    "        message_string = \"\\nElement of type '{0}' has the following errors:\\n{1}\"\n",
    "        error_string = pprint.pformat(errors)\n",
    "        \n",
    "        raise Exception(message_string.format(field, error_string))\n",
    "\n",
    "class UnicodeDictWriter(csv.DictWriter, object):\n",
    "    \"\"\"Extends csv.DictWriter to handle Unicode input\"\"\"\n",
    "    def writerow(self, row):\n",
    "        super(UnicodeDictWriter, self).writerow({\n",
    "            k: (v.encode('utf-8') if isinstance(v, unicode) else v) for k, v in row.iteritems()\n",
    "        })\n",
    "\n",
    "    def writerows(self, rows):\n",
    "        for row in rows:\n",
    "            self.writerow(row)\n",
    "\n",
    "# ================================================== #\n",
    "#               Main Function                        #\n",
    "# ================================================== #\n",
    "def process_map(file_in, validate):\n",
    "    \"\"\"Iteratively processes each XML element and writes it to csv(s)\"\"\"\n",
    "    with codecs.open(NODES_PATH, 'w') as nodes_file, \\\n",
    "         codecs.open(NODE_TAGS_PATH, 'w') as nodes_tags_file, \\\n",
    "         codecs.open(WAYS_PATH, 'w') as ways_file, \\\n",
    "         codecs.open(WAY_NODES_PATH, 'w') as way_nodes_file, \\\n",
    "         codecs.open(WAY_TAGS_PATH, 'w') as way_tags_file:\n",
    "\n",
    "        nodes_writer = UnicodeDictWriter(nodes_file, node_fields)\n",
    "        node_tags_writer = UnicodeDictWriter(nodes_tags_file, node_tags_fields)\n",
    "        ways_writer = UnicodeDictWriter(ways_file, way_fields)\n",
    "        way_nodes_writer = UnicodeDictWriter(way_nodes_file, way_nodes_fields)\n",
    "        way_tags_writer = UnicodeDictWriter(way_tags_file, way_tags_fields)\n",
    "\n",
    "        nodes_writer.writeheader()\n",
    "        node_tags_writer.writeheader()\n",
    "        ways_writer.writeheader()\n",
    "        way_nodes_writer.writeheader()\n",
    "        way_tags_writer.writeheader()\n",
    "\n",
    "        validator = cerberus.Validator()\n",
    "\n",
    "        for element in get_element(file_in, tags=('node', 'way')):\n",
    "            el = shape_element(element)\n",
    "            if el:\n",
    "                if validate is True:\n",
    "                    validate_element(el, validator)\n",
    "\n",
    "                if element.tag == 'node':\n",
    "                    nodes_writer.writerow(el['node'])\n",
    "                    node_tags_writer.writerows(el['node_tags'])\n",
    "                elif element.tag == 'way':\n",
    "                    ways_writer.writerow(el['way'])\n",
    "                    way_nodes_writer.writerows(el['way_nodes'])\n",
    "                    way_tags_writer.writerows(el['way_tags'])\n",
    "\n",
    "if __name__ == '__main__':\n",
    "    # Note: Validation is ~ 10X slower. For the project consider using a small\n",
    "    # sample of the map when validating.\n",
    "    from time import time\n",
    "    t0 = time()\n",
    "    process_map(OSM_PATH, validate=False)\n",
    "    print \"Time To Process: {} Seconds\".format(time()-t0)"
   ]
  },
  {
   "cell_type": "markdown",
   "metadata": {
    "collapsed": true
   },
   "source": [
    "# Database and Table Creation"
   ]
  },
  {
   "cell_type": "code",
   "execution_count": 1,
   "metadata": {
    "collapsed": false
   },
   "outputs": [],
   "source": [
    "import sqlite3\n",
    "import csv\n",
    "import os\n",
    "import math\n",
    "from time import time\n",
    "from pprint import pprint\n",
    "from decimal import Decimal\n",
    "from UploadSplitCSVFiles import UploadSplitCSVFiles\n",
    "\n",
    "uploadSplit = UploadSplitCSVFiles()\n",
    "\n",
    "db = 'Los_Angeles.db'    # name of the sqlite database file\n",
    "\n",
    "# Connect to the database\n",
    "#conn = sqlite3.connect(db)\n",
    "\n",
    "# Get a cursor object\n",
    "#cur = conn.cursor()"
   ]
  },
  {
   "cell_type": "markdown",
   "metadata": {},
   "source": [
    "Three of the five csv files were too large to upload whole into my database and would freeze up my computer.  As a result I used a class function called \"UploadSplitCSVFiles()\" that splits the original csv file into a specified number of smaller files and uploads it to the table in batches.  The code I used can be found here: https://discussions.udacity.com/t/memory-error-nodes-csv-to-sql-database/186806"
   ]
  },
  {
   "cell_type": "code",
   "execution_count": 2,
   "metadata": {
    "collapsed": false
   },
   "outputs": [
    {
     "name": "stdout",
     "output_type": "stream",
     "text": [
      "Number of rows in file: ................: 27327575\n",
      "Time taken to count csv file: ..........: 30.27 secs\n",
      "Number of rows per new file: ...........: 910920\n",
      "Time taken to create csv files: ........: 104.55 secs\n",
      "The original csv file size is...........: 2531 MB\n",
      "The database file size is...............: 3617 MB\n",
      "Time taken to upload csv files: ........: 437.97 secs\n"
     ]
    }
   ],
   "source": [
    "uploadSplit.uploadPartCSVFiles(db,'nodes.csv',30)"
   ]
  },
  {
   "cell_type": "code",
   "execution_count": 2,
   "metadata": {
    "collapsed": false
   },
   "outputs": [
    {
     "name": "stdout",
     "output_type": "stream",
     "text": [
      "The csv file size is....................: 35 MB\n",
      "The database file size is...............: 3617 MB\n",
      "Time taken to upload csv files: ........: 8.72 secs\n"
     ]
    }
   ],
   "source": [
    "conn = sqlite3.connect(db)\n",
    "\n",
    "cur = conn.cursor()\n",
    "\n",
    "cur.execute('DROP TABLE IF EXISTS nodes_tags')\n",
    "conn.commit()\n",
    "\n",
    "cur.execute('''\n",
    "    CREATE TABLE nodes_tags (\n",
    "    id INTEGER,\n",
    "    key TEXT,\n",
    "    value TEXT,\n",
    "    type TEXT,\n",
    "    FOREIGN KEY (id) REFERENCES nodes(id)\n",
    "    )\n",
    "''')\n",
    "conn.commit()\n",
    "\n",
    "t0 = time()\n",
    "with open('nodes_tags.csv','rb') as fin:\n",
    "    dr = csv.DictReader(fin) # comma is default delimiter\n",
    "    to_db = [(i['id'].decode(\"utf-8\"), i['key'].decode(\"utf-8\"),i['value'].decode(\"utf-8\"), i['type'].decode(\"utf-8\")) for i in dr]\n",
    "\n",
    "cur.executemany(\"INSERT INTO nodes_tags(id, key, value, type) VALUES (?, ?, ?, ?);\", to_db)\n",
    "conn.commit()\n",
    "\n",
    "print '{:.<40s}: {:.0f} MB'.format('The csv file size is',os.path.getsize('nodes_tags.csv')/1.0e6)\n",
    "print '{:.<40s}: {:.0f} MB'.format('The database file size is',os.path.getsize(db)/1.0e6)\n",
    "print '{:.<40s}: {:.2f} secs'.format('Time taken to upload csv files: ', Decimal(time()-t0))\n",
    "\n",
    "conn.close()"
   ]
  },
  {
   "cell_type": "code",
   "execution_count": 2,
   "metadata": {
    "collapsed": false
   },
   "outputs": [
    {
     "name": "stdout",
     "output_type": "stream",
     "text": [
      "The csv file size is....................: 185 MB\n",
      "The database file size is...............: 3617 MB\n",
      "Time taken to upload csv files: ........: 45.47 secs\n"
     ]
    }
   ],
   "source": [
    "conn = sqlite3.connect(db)\n",
    "\n",
    "cur = conn.cursor()\n",
    "\n",
    "cur.execute('DROP TABLE IF EXISTS ways')\n",
    "conn.commit()\n",
    "\n",
    "cur.execute('''\n",
    "    CREATE TABLE ways (\n",
    "    id INTEGER PRIMARY KEY NOT NULL,\n",
    "    user TEXT,\n",
    "    uid INTEGER,\n",
    "    version TEXT,\n",
    "    changeset INTEGER,\n",
    "    timestamp TEXT\n",
    "    )\n",
    "''')\n",
    "conn.commit()\n",
    "\n",
    "t0 = time()\n",
    "with open('ways.csv','rb') as fin:\n",
    "    dr = csv.DictReader(fin) # comma is default delimiter\n",
    "    to_db = [(i['id'].decode('utf-8'), i['user'].decode('utf-8'), i['uid'].decode('utf-8'), i['version'].decode('utf-8'), i['changeset'].decode('utf-8'), i['timestamp'].decode('utf-8')) for i in dr]\n",
    "\n",
    "cur.executemany(\"INSERT INTO ways(id, user, uid, version, changeset, timestamp) VALUES (?, ?, ?, ?, ?, ?);\", to_db)\n",
    "conn.commit()\n",
    "\n",
    "print '{:.<40s}: {:.0f} MB'.format('The csv file size is',os.path.getsize('ways.csv')/1.0e6)\n",
    "print '{:.<40s}: {:.0f} MB'.format('The database file size is',os.path.getsize(db)/1.0e6)\n",
    "print '{:.<40s}: {:.2f} secs'.format('Time taken to upload csv files: ', Decimal(time()-t0))\n",
    "\n",
    "conn.close()"
   ]
  },
  {
   "cell_type": "code",
   "execution_count": 2,
   "metadata": {
    "collapsed": false
   },
   "outputs": [
    {
     "name": "stdout",
     "output_type": "stream",
     "text": [
      "Number of rows in file: ................: 30747777\n",
      "Time taken to count csv file: ..........: 32.35 secs\n",
      "Number of rows per new file: ...........: 3074778\n",
      "Time taken to create csv files: ........: 66.47 secs\n",
      "The original csv file size is...........: 742 MB\n",
      "The database file size is...............: 2315 MB\n",
      "Time taken to upload csv files: ........: 356.27 secs\n"
     ]
    }
   ],
   "source": [
    "uploadSplit.uploadPartCSVFiles(db,'ways_nodes.csv',10)"
   ]
  },
  {
   "cell_type": "code",
   "execution_count": 2,
   "metadata": {
    "collapsed": false
   },
   "outputs": [
    {
     "name": "stdout",
     "output_type": "stream",
     "text": [
      "Number of rows in file: ................: 17631440\n",
      "Time taken to count csv file: ..........: 68.13 secs\n",
      "Number of rows per new file: ...........: 1763144\n",
      "Time taken to create csv files: ........: 81.16 secs\n",
      "The original csv file size is...........: 597 MB\n",
      "The database file size is...............: 2315 MB\n",
      "Time taken to upload csv files: ........: 199.73 secs\n"
     ]
    }
   ],
   "source": [
    "uploadSplit.uploadPartCSVFiles(db,'ways_tags.csv',10)"
   ]
  },
  {
   "cell_type": "markdown",
   "metadata": {},
   "source": [
    "## Database Queries"
   ]
  },
  {
   "cell_type": "markdown",
   "metadata": {},
   "source": [
    "### File Sizes"
   ]
  },
  {
   "cell_type": "markdown",
   "metadata": {},
   "source": [
    "The relevant information is listed above in the outputs of the \"Database and Table Creation\"  section, but I will list them all here for easier reference:\n",
    "\n",
    "- los-angeles_california.osm: 6.4 GB\n",
    "- Los_Angeles.db: 3.0 GB\n",
    "- nodes.csv: 2.5 GB\n",
    "- nodes_tags.csv: 35 MB\n",
    "- ways.csv: 185 MB\n",
    "- ways_nodes.csv: 742 MB\n",
    "- ways_tags.cv: 597 MB  "
   ]
  },
  {
   "cell_type": "markdown",
   "metadata": {},
   "source": [
    "### Number of Unique Users"
   ]
  },
  {
   "cell_type": "code",
   "execution_count": 3,
   "metadata": {
    "collapsed": false
   },
   "outputs": [
    {
     "name": "stdout",
     "output_type": "stream",
     "text": [
      "Populating the interactive namespace from numpy and matplotlib\n"
     ]
    }
   ],
   "source": [
    "import numpy as np\n",
    "import pandas as pd\n",
    "%pylab inline\n",
    "import matplotlib.pyplot as plt\n",
    "import seaborn as sns\n",
    "\n",
    "conn = sqlite3.connect(db)\n",
    "\n",
    "cur = conn.cursor()"
   ]
  },
  {
   "cell_type": "code",
   "execution_count": 4,
   "metadata": {
    "collapsed": false
   },
   "outputs": [
    {
     "name": "stdout",
     "output_type": "stream",
     "text": [
      "[(3650,)]\n"
     ]
    }
   ],
   "source": [
    "cur.execute('SELECT COUNT(DISTINCT uid) FROM (SELECT uid FROM nodes UNION ALL SELECT uid FROM ways)')\n",
    "pprint(cur.fetchall())"
   ]
  },
  {
   "cell_type": "markdown",
   "metadata": {},
   "source": [
    "### Number of Nodes and Ways"
   ]
  },
  {
   "cell_type": "code",
   "execution_count": 5,
   "metadata": {
    "collapsed": false
   },
   "outputs": [
    {
     "name": "stdout",
     "output_type": "stream",
     "text": [
      "[(27327574,)]\n"
     ]
    }
   ],
   "source": [
    "cur.execute('SELECT COUNT(*) FROM nodes')\n",
    "pprint(cur.fetchall())"
   ]
  },
  {
   "cell_type": "code",
   "execution_count": 6,
   "metadata": {
    "collapsed": false
   },
   "outputs": [
    {
     "name": "stdout",
     "output_type": "stream",
     "text": [
      "[(2746825,)]\n"
     ]
    }
   ],
   "source": [
    "cur.execute('SELECT COUNT(*) FROM ways')\n",
    "pprint(cur.fetchall())"
   ]
  },
  {
   "cell_type": "markdown",
   "metadata": {},
   "source": [
    "### Number Types of Nodes"
   ]
  },
  {
   "cell_type": "code",
   "execution_count": 9,
   "metadata": {
    "collapsed": false
   },
   "outputs": [
    {
     "data": {
      "text/html": [
       "<div>\n",
       "<table border=\"1\" class=\"dataframe\">\n",
       "  <thead>\n",
       "    <tr style=\"text-align: right;\">\n",
       "      <th></th>\n",
       "      <th>key</th>\n",
       "      <th>num</th>\n",
       "    </tr>\n",
       "  </thead>\n",
       "  <tbody>\n",
       "    <tr>\n",
       "      <th>0</th>\n",
       "      <td>highway</td>\n",
       "      <td>89645</td>\n",
       "    </tr>\n",
       "    <tr>\n",
       "      <th>1</th>\n",
       "      <td>source</td>\n",
       "      <td>86923</td>\n",
       "    </tr>\n",
       "    <tr>\n",
       "      <th>2</th>\n",
       "      <td>street</td>\n",
       "      <td>75537</td>\n",
       "    </tr>\n",
       "    <tr>\n",
       "      <th>3</th>\n",
       "      <td>housenumber</td>\n",
       "      <td>75441</td>\n",
       "    </tr>\n",
       "    <tr>\n",
       "      <th>4</th>\n",
       "      <td>city</td>\n",
       "      <td>72018</td>\n",
       "    </tr>\n",
       "    <tr>\n",
       "      <th>5</th>\n",
       "      <td>postcode</td>\n",
       "      <td>71583</td>\n",
       "    </tr>\n",
       "    <tr>\n",
       "      <th>6</th>\n",
       "      <td>power</td>\n",
       "      <td>40220</td>\n",
       "    </tr>\n",
       "    <tr>\n",
       "      <th>7</th>\n",
       "      <td>building</td>\n",
       "      <td>39209</td>\n",
       "    </tr>\n",
       "    <tr>\n",
       "      <th>8</th>\n",
       "      <td>natural</td>\n",
       "      <td>39048</td>\n",
       "    </tr>\n",
       "    <tr>\n",
       "      <th>9</th>\n",
       "      <td>country</td>\n",
       "      <td>34359</td>\n",
       "    </tr>\n",
       "  </tbody>\n",
       "</table>\n",
       "</div>"
      ],
      "text/plain": [
       "           key    num\n",
       "0      highway  89645\n",
       "1       source  86923\n",
       "2       street  75537\n",
       "3  housenumber  75441\n",
       "4         city  72018\n",
       "5     postcode  71583\n",
       "6        power  40220\n",
       "7     building  39209\n",
       "8      natural  39048\n",
       "9      country  34359"
      ]
     },
     "execution_count": 9,
     "metadata": {},
     "output_type": "execute_result"
    }
   ],
   "source": [
    "node_types = pd.read_sql_query('SELECT key, COUNT(*) AS num FROM nodes_tags GROUP BY key ORDER BY num DESC LIMIT 10', conn)\n",
    "node_types"
   ]
  },
  {
   "cell_type": "code",
   "execution_count": 19,
   "metadata": {
    "collapsed": false
   },
   "outputs": [
    {
     "data": {
      "text/plain": [
       "[<matplotlib.text.Text at 0x7f40d0f65890>]"
      ]
     },
     "execution_count": 19,
     "metadata": {},
     "output_type": "execute_result"
    },
    {
     "data": {
      "image/png": "[encoded data removed]",
      "text/plain": [
       "<matplotlib.figure.Figure at 0x7f40d1082e50>"
      ]
     },
     "metadata": {},
     "output_type": "display_data"
    }
   ],
   "source": [
    "node_types.plot(x='key', kind='bar', title='Node Types').set(ylabel='num')"
   ]
  },
  {
   "cell_type": "markdown",
   "metadata": {},
   "source": [
    "## Additional Statistics"
   ]
  },
  {
   "cell_type": "markdown",
   "metadata": {},
   "source": [
    "### Number of Types of Ways"
   ]
  },
  {
   "cell_type": "code",
   "execution_count": 20,
   "metadata": {
    "collapsed": false
   },
   "outputs": [
    {
     "data": {
      "text/html": [
       "<div>\n",
       "<table border=\"1\" class=\"dataframe\">\n",
       "  <thead>\n",
       "    <tr style=\"text-align: right;\">\n",
       "      <th></th>\n",
       "      <th>key</th>\n",
       "      <th>num</th>\n",
       "    </tr>\n",
       "  </thead>\n",
       "  <tbody>\n",
       "    <tr>\n",
       "      <th>0</th>\n",
       "      <td>building</td>\n",
       "      <td>2100966</td>\n",
       "    </tr>\n",
       "    <tr>\n",
       "      <th>1</th>\n",
       "      <td>ele</td>\n",
       "      <td>1969568</td>\n",
       "    </tr>\n",
       "    <tr>\n",
       "      <th>2</th>\n",
       "      <td>bld_id</td>\n",
       "      <td>1967610</td>\n",
       "    </tr>\n",
       "    <tr>\n",
       "      <th>3</th>\n",
       "      <td>ain</td>\n",
       "      <td>1966808</td>\n",
       "    </tr>\n",
       "    <tr>\n",
       "      <th>4</th>\n",
       "      <td>height</td>\n",
       "      <td>1959561</td>\n",
       "    </tr>\n",
       "    <tr>\n",
       "      <th>5</th>\n",
       "      <td>start_date</td>\n",
       "      <td>1879931</td>\n",
       "    </tr>\n",
       "    <tr>\n",
       "      <th>6</th>\n",
       "      <td>units</td>\n",
       "      <td>1804102</td>\n",
       "    </tr>\n",
       "    <tr>\n",
       "      <th>7</th>\n",
       "      <td>highway</td>\n",
       "      <td>496893</td>\n",
       "    </tr>\n",
       "    <tr>\n",
       "      <th>8</th>\n",
       "      <td>name</td>\n",
       "      <td>353731</td>\n",
       "    </tr>\n",
       "    <tr>\n",
       "      <th>9</th>\n",
       "      <td>source</td>\n",
       "      <td>248897</td>\n",
       "    </tr>\n",
       "  </tbody>\n",
       "</table>\n",
       "</div>"
      ],
      "text/plain": [
       "          key      num\n",
       "0    building  2100966\n",
       "1         ele  1969568\n",
       "2      bld_id  1967610\n",
       "3         ain  1966808\n",
       "4      height  1959561\n",
       "5  start_date  1879931\n",
       "6       units  1804102\n",
       "7     highway   496893\n",
       "8        name   353731\n",
       "9      source   248897"
      ]
     },
     "execution_count": 20,
     "metadata": {},
     "output_type": "execute_result"
    }
   ],
   "source": [
    "way_types = pd.read_sql_query('SELECT key, COUNT(*) AS num FROM ways_tags GROUP BY key ORDER BY num DESC LIMIT 10', conn)\n",
    "way_types"
   ]
  },
  {
   "cell_type": "code",
   "execution_count": 21,
   "metadata": {
    "collapsed": false
   },
   "outputs": [
    {
     "data": {
      "text/plain": [
       "[<matplotlib.text.Text at 0x7f40d0de8550>]"
      ]
     },
     "execution_count": 21,
     "metadata": {},
     "output_type": "execute_result"
    },
    {
     "data": {
      "image/png": "[encoded data removed]",
      "text/plain": [
       "<matplotlib.figure.Figure at 0x7f40d0e45410>"
      ]
     },
     "metadata": {},
     "output_type": "display_data"
    }
   ],
   "source": [
    "way_types.plot(x='key', kind='bar', title='Way Types').set(ylabel='num')"
   ]
  },
  {
   "cell_type": "markdown",
   "metadata": {},
   "source": [
    "Not knowing what some of these way keys stood for I looked them up. and, interestingly, \"bld_id\", \"ain\" are very specific to Los Angeles County:\n",
    "https://wiki.openstreetmap.org/wiki/Key:lacounty:bld_id and https://wiki.openstreetmap.org/wiki/Key:lacounty:ain\n",
    "\n",
    "Also, it was interesting to see what I see more mundane tags (such as \"height\", \"start_date\", and \"units\") at the top of the list.  After searching for them to get their exact meanings, I found that there isn't an actual OSM key named \"units\".  I'm not sure why \"units\" became so prevalent if it isn't standard, so I will likely need to do some further data wrangling to get to the bottom of this mystery."
   ]
  },
  {
   "cell_type": "markdown",
   "metadata": {},
   "source": [
    "### Most Common Highway Types"
   ]
  },
  {
   "cell_type": "code",
   "execution_count": 22,
   "metadata": {
    "collapsed": false
   },
   "outputs": [
    {
     "data": {
      "text/html": [
       "<div>\n",
       "<table border=\"1\" class=\"dataframe\">\n",
       "  <thead>\n",
       "    <tr style=\"text-align: right;\">\n",
       "      <th></th>\n",
       "      <th>value</th>\n",
       "      <th>num</th>\n",
       "    </tr>\n",
       "  </thead>\n",
       "  <tbody>\n",
       "    <tr>\n",
       "      <th>0</th>\n",
       "      <td>residential</td>\n",
       "      <td>199543</td>\n",
       "    </tr>\n",
       "    <tr>\n",
       "      <th>1</th>\n",
       "      <td>service</td>\n",
       "      <td>96711</td>\n",
       "    </tr>\n",
       "    <tr>\n",
       "      <th>2</th>\n",
       "      <td>secondary</td>\n",
       "      <td>45911</td>\n",
       "    </tr>\n",
       "    <tr>\n",
       "      <th>3</th>\n",
       "      <td>primary</td>\n",
       "      <td>40716</td>\n",
       "    </tr>\n",
       "    <tr>\n",
       "      <th>4</th>\n",
       "      <td>footway</td>\n",
       "      <td>31436</td>\n",
       "    </tr>\n",
       "    <tr>\n",
       "      <th>5</th>\n",
       "      <td>tertiary</td>\n",
       "      <td>24427</td>\n",
       "    </tr>\n",
       "    <tr>\n",
       "      <th>6</th>\n",
       "      <td>track</td>\n",
       "      <td>14179</td>\n",
       "    </tr>\n",
       "    <tr>\n",
       "      <th>7</th>\n",
       "      <td>motorway_link</td>\n",
       "      <td>11969</td>\n",
       "    </tr>\n",
       "    <tr>\n",
       "      <th>8</th>\n",
       "      <td>path</td>\n",
       "      <td>7821</td>\n",
       "    </tr>\n",
       "    <tr>\n",
       "      <th>9</th>\n",
       "      <td>motorway</td>\n",
       "      <td>7561</td>\n",
       "    </tr>\n",
       "  </tbody>\n",
       "</table>\n",
       "</div>"
      ],
      "text/plain": [
       "           value     num\n",
       "0    residential  199543\n",
       "1        service   96711\n",
       "2      secondary   45911\n",
       "3        primary   40716\n",
       "4        footway   31436\n",
       "5       tertiary   24427\n",
       "6          track   14179\n",
       "7  motorway_link   11969\n",
       "8           path    7821\n",
       "9       motorway    7561"
      ]
     },
     "execution_count": 22,
     "metadata": {},
     "output_type": "execute_result"
    }
   ],
   "source": [
    "highway_types = pd.read_sql_query('SELECT DISTINCT value, COUNT(*) as num FROM ways_tags WHERE key = \"highway\" GROUP BY value ORDER BY num \\\n",
    "DESC LIMIT 10', conn)\n",
    "highway_types"
   ]
  },
  {
   "cell_type": "code",
   "execution_count": 25,
   "metadata": {
    "collapsed": false
   },
   "outputs": [
    {
     "data": {
      "text/plain": [
       "[<matplotlib.text.Text at 0x7f40d0c20dd0>]"
      ]
     },
     "execution_count": 25,
     "metadata": {},
     "output_type": "execute_result"
    },
    {
     "data": {
      "image/png": "[encoded data removed]",
      "text/plain": [
       "<matplotlib.figure.Figure at 0x7f40d3c33790>"
      ]
     },
     "metadata": {},
     "output_type": "display_data"
    }
   ],
   "source": [
    "highway_types.plot(x='value', kind='bar', title='Way Types').set(ylabel='num')"
   ]
  },
  {
   "cell_type": "code",
   "execution_count": null,
   "metadata": {
    "collapsed": true
   },
   "outputs": [],
   "source": [
    "highway_types_2 = pd.read_sql_query('SELECT DISTINCT value, COUNT(*) as num FROM ways_tags WHERE key = \"highway\" GROUP BY value ORDER BY num \\\n",
    "DESC LIMIT 10', conn)"
   ]
  },
  {
   "cell_type": "markdown",
   "metadata": {},
   "source": [
    "### Most Common Amenities"
   ]
  },
  {
   "cell_type": "code",
   "execution_count": 26,
   "metadata": {
    "collapsed": false
   },
   "outputs": [
    {
     "data": {
      "text/html": [
       "<div>\n",
       "<table border=\"1\" class=\"dataframe\">\n",
       "  <thead>\n",
       "    <tr style=\"text-align: right;\">\n",
       "      <th></th>\n",
       "      <th>value</th>\n",
       "      <th>num</th>\n",
       "    </tr>\n",
       "  </thead>\n",
       "  <tbody>\n",
       "    <tr>\n",
       "      <th>0</th>\n",
       "      <td>place_of_worship</td>\n",
       "      <td>3700</td>\n",
       "    </tr>\n",
       "    <tr>\n",
       "      <th>1</th>\n",
       "      <td>school</td>\n",
       "      <td>2873</td>\n",
       "    </tr>\n",
       "    <tr>\n",
       "      <th>2</th>\n",
       "      <td>restaurant</td>\n",
       "      <td>2642</td>\n",
       "    </tr>\n",
       "    <tr>\n",
       "      <th>3</th>\n",
       "      <td>fast_food</td>\n",
       "      <td>1421</td>\n",
       "    </tr>\n",
       "    <tr>\n",
       "      <th>4</th>\n",
       "      <td>fuel</td>\n",
       "      <td>838</td>\n",
       "    </tr>\n",
       "    <tr>\n",
       "      <th>5</th>\n",
       "      <td>bench</td>\n",
       "      <td>791</td>\n",
       "    </tr>\n",
       "    <tr>\n",
       "      <th>6</th>\n",
       "      <td>cafe</td>\n",
       "      <td>771</td>\n",
       "    </tr>\n",
       "    <tr>\n",
       "      <th>7</th>\n",
       "      <td>fountain</td>\n",
       "      <td>699</td>\n",
       "    </tr>\n",
       "    <tr>\n",
       "      <th>8</th>\n",
       "      <td>toilets</td>\n",
       "      <td>591</td>\n",
       "    </tr>\n",
       "    <tr>\n",
       "      <th>9</th>\n",
       "      <td>drinking_water</td>\n",
       "      <td>523</td>\n",
       "    </tr>\n",
       "  </tbody>\n",
       "</table>\n",
       "</div>"
      ],
      "text/plain": [
       "              value   num\n",
       "0  place_of_worship  3700\n",
       "1            school  2873\n",
       "2        restaurant  2642\n",
       "3         fast_food  1421\n",
       "4              fuel   838\n",
       "5             bench   791\n",
       "6              cafe   771\n",
       "7          fountain   699\n",
       "8           toilets   591\n",
       "9    drinking_water   523"
      ]
     },
     "execution_count": 26,
     "metadata": {},
     "output_type": "execute_result"
    }
   ],
   "source": [
    "amenities = pd.read_sql_query('SELECT value, COUNT(*) as num FROM nodes_tags WHERE key = \"amenity\" GROUP BY value ORDER BY num \\\n",
    "DESC LIMIT 10', conn)\n",
    "amenities"
   ]
  },
  {
   "cell_type": "code",
   "execution_count": 27,
   "metadata": {
    "collapsed": false
   },
   "outputs": [
    {
     "data": {
      "text/plain": [
       "[<matplotlib.text.Text at 0x7f40d0a36850>]"
      ]
     },
     "execution_count": 27,
     "metadata": {},
     "output_type": "execute_result"
    },
    {
     "data": {
      "image/png": "[encoded data removed]",
      "text/plain": [
       "<matplotlib.figure.Figure at 0x7f40d0be5390>"
      ]
     },
     "metadata": {},
     "output_type": "display_data"
    }
   ],
   "source": [
    "amenities.plot(x='value', kind='bar', title='Way Types').set(ylabel='num')"
   ]
  },
  {
   "cell_type": "code",
   "execution_count": 28,
   "metadata": {
    "collapsed": true
   },
   "outputs": [],
   "source": [
    "conn.close()"
   ]
  },
  {
   "cell_type": "markdown",
   "metadata": {},
   "source": [
    "##  Conclusion and Aditional Ideas"
   ]
  },
  {
   "cell_type": "markdown",
   "metadata": {},
   "source": [
    "Although I believe the data was cleaned well enough for the purposes of this project, there are many different tag attributes that I have yet to look at in detail.  As a result it is obvious that there is still a lot of cleaning left to be done.\n",
    "\n",
    "One thing I think needs to be done is some sort of work to help standardize the labels for different map features.  Especially when it comes to GPS data.  While the OSM Wiki page offers standards for labeling different map features (https://wiki.openstreetmap.org/wiki/Map_Features), this seems to only apply for manually imputed data.  As a result, there is a disconnect between manually imputed data and automatically generated GPS data.  Perhaps the people at OSM could collaborate with the popular GPS system makers to better standardize how their data is formatted for OSM mapping.  However, it could be difficult to get these companies to collaborate on this since they are in competition with each other.  Also, even if the companies could be made to collaborate, doing so could lead to an over-reliance on GPS generated data and push out people who want to add information by hand.\n",
    "\n",
    "In the meantime, for purposes of easier querying within my database, I could possibly standardize the data myself by changing either the GPS generated tag attributes to match with the OSM provided map feature labels."
   ]
  },
  {
   "cell_type": "markdown",
   "metadata": {},
   "source": [
    "## References"
   ]
  },
  {
   "cell_type": "markdown",
   "metadata": {},
   "source": [
    "### General\n",
    "- https://gist.github.com/carlward/54ec1c91b62a5f911c42\n",
    "- https://discussions.udacity.com/t/workflow-for-project/182916\n",
    "- https://discussions.udacity.com/t/a-question-about-the-scope-of-data-cleaning/161724\n",
    "\n",
    "### Data Wrangling\n",
    "- https://discussions.udacity.com/t/apply-tag-types-function/181950\n",
    "- https://regex101.com/#python\n",
    "\n",
    "### CSV File Creation\n",
    "- https://discussions.udacity.com/t/p3-viewing-sample-of-osm-data/179293/5\n",
    "- https://discussions.udacity.com/t/memory-error-nodes-csv-to-sql-database/186806\n",
    "- https://discussions.udacity.com/t/preparing-for-database-attributeerror-str-object-has-no-attribute-attrib/200099\n",
    "- https://discussions.udacity.com/t/keyerror-user/174898\n",
    "- https://discussions.udacity.com/t/process-map-shape-element-function/194007\n",
    "\n",
    "### Database and Table Creation\n",
    "- https://discussions.udacity.com/t/creating-db-file-from-csv-files-with-non-ascii-unicode-characters/174958/7\n",
    "- https://discussions.udacity.com/t/memory-error-nodes-csv-to-sql-database/186806"
   ]
  }
 ],
 "metadata": {
  "kernelspec": {
   "display_name": "Python [Root]",
   "language": "python",
   "name": "Python [Root]"
  },
  "language_info": {
   "codemirror_mode": {
    "name": "ipython",
    "version": 2
   },
   "file_extension": ".py",
   "mimetype": "text/x-python",
   "name": "python",
   "nbconvert_exporter": "python",
   "pygments_lexer": "ipython2",
   "version": "2.7.12"
  }
 },
 "nbformat": 4,
 "nbformat_minor": 0
}
